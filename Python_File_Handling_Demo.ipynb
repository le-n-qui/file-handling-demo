{
  "nbformat": 4,
  "nbformat_minor": 0,
  "metadata": {
    "colab": {
      "name": "Python-File-Handling-Demo.ipynb",
      "provenance": [],
      "authorship_tag": "ABX9TyNfBTGua935f2dIUur98uji"
    },
    "kernelspec": {
      "name": "python3",
      "display_name": "Python 3"
    },
    "language_info": {
      "name": "python"
    }
  },
  "cells": [
    {
      "cell_type": "markdown",
      "metadata": {
        "id": "UDyE6A2ixNgb"
      },
      "source": [
        "# Review on Python Files\n",
        "As with any other modern high-level programming languages, Python provides developers with built-in methods that allow them to read, append and write to files. Without further ado, let's dive in and test them out!"
      ]
    },
    {
      "cell_type": "markdown",
      "metadata": {
        "id": "-0Qas0bhXT9Z"
      },
      "source": [
        "Since we have not had any file with us yet, it will be a good exercise to bring a file into existence, though temporary on Google Colab, and write content to it using Python. Let's see how we do this."
      ]
    },
    {
      "cell_type": "code",
      "metadata": {
        "id": "UO6gOgjHk_nY"
      },
      "source": [
        "# Name your file\n",
        "filename = \"america.txt\"\n",
        "# Create a file object with open() method\n",
        "# which takes two args: 1. file name 2. mode\n",
        "file_obj = open(filename, 'w')"
      ],
      "execution_count": 10,
      "outputs": []
    },
    {
      "cell_type": "markdown",
      "metadata": {
        "id": "74_6onr6oiK0"
      },
      "source": [
        "Above, we have effectively managed to make a file handler which we will use to write to our file. Although we could have provided a file name string as the first argument to our method open(), it is much cleaner and better for code maintainablity as we may want to change the name of our file in the future. You may notice the second argument and wonder what it means. So, we have different ways to indicate to our file handler what we want to do with our file. In summary, we can tell it to read our file's content ('**r**'), append to it ('**a**'), and write to it ('**w**'). There is also a choice for you to read and write with this '**r+**' option. One important note, with regards to our modes, is that the write mode is different from append mode in that it will overwrite whatever you may have had within your file. Be careful when you write to your file; know what is in your file and whether you want to start anew with it! With that said, let's write to our file!\n",
        "\n",
        "\n",
        "\n"
      ]
    },
    {
      "cell_type": "code",
      "metadata": {
        "id": "BS3QECRsqB3N"
      },
      "source": [
        "# Write to file\n",
        "file_obj.write('''    America\n",
        "Centre of equal daughters, equal sons,\n",
        "All, all alike endear'd, grown, ungrown, young or old,\n",
        "Strong, ample, fair, enduring, capable, rich,\n",
        "Perennial with the Earth, with Freedom, Law and Love,\n",
        "A grand, sane, towering, seated Mother,\n",
        "Chair'd in the adamant of Time.\n",
        "    -Walt Whitman-''')\n",
        "# Close file object\n",
        "file_obj.close()"
      ],
      "execution_count": 11,
      "outputs": []
    }
  ]
}