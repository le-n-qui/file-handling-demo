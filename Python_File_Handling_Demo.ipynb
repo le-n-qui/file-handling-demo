{
  "nbformat": 4,
  "nbformat_minor": 0,
  "metadata": {
    "colab": {
      "name": "Python-File-Handling-Demo.ipynb",
      "provenance": [],
      "authorship_tag": "ABX9TyPDIc5crnYk+elhbNqzxO9H"
    },
    "kernelspec": {
      "name": "python3",
      "display_name": "Python 3"
    },
    "language_info": {
      "name": "python"
    }
  },
  "cells": [
    {
      "cell_type": "markdown",
      "metadata": {
        "id": "UDyE6A2ixNgb"
      },
      "source": [
        "# Review on Python Files\n",
        "As with any other modern high-level programming languages, Python provides developers with built-in methods that allow them to read, append and write to files. Without further ado, let's dive in and test them out!"
      ]
    },
    {
      "cell_type": "markdown",
      "metadata": {
        "id": "-0Qas0bhXT9Z"
      },
      "source": [
        "## Open Method\n",
        "Since we have not had any file with us yet, it will be a good exercise to bring a file into existence, though temporary on Google Colab, and write content to it using Python. Let's see how we do this."
      ]
    },
    {
      "cell_type": "code",
      "metadata": {
        "id": "UO6gOgjHk_nY"
      },
      "source": [
        "# Name your file\n",
        "filename = \"america.txt\"\n",
        "# Create a file object with open() method\n",
        "# which takes two args: 1. file name 2. mode\n",
        "file_obj = open(filename, 'w')"
      ],
      "execution_count": 1,
      "outputs": []
    },
    {
      "cell_type": "markdown",
      "metadata": {
        "id": "74_6onr6oiK0"
      },
      "source": [
        "## Write Method\n",
        "Above, we have effectively managed to make a file handler which we will use to write to our file. Although we could have provided a file name string as the first argument to our method open(), it is much cleaner and better for code maintainablity as we may want to change the name of our file in the future. You may notice the second argument and wonder what it means. So, we have different ways to indicate to our file handler what we want to do with our file. In summary, we can tell it to read our file's content ('**r**'), append to it ('**a**'), and write to it ('**w**'). There is also a choice for you to read and write with this '**r+**' option. Explore other [modes](https://docs.python.org/3/library/functions.html#open) on your free time! One important note, with regards to our modes, is that the write mode is different from append mode in that it will overwrite whatever you may have had within your file. Be careful when you write to your file; know what is in your file and whether you want to start anew with it! With that said, let's write to our file!\n",
        "\n",
        "\n",
        "\n"
      ]
    },
    {
      "cell_type": "code",
      "metadata": {
        "id": "BS3QECRsqB3N"
      },
      "source": [
        "# Write to file\n",
        "file_obj.write('''    America\n",
        "Centre of equal daughters, equal sons,\n",
        "All, all alike endear'd, grown, ungrown, young or old,\n",
        "Strong, ample, fair, enduring, capable, rich,\n",
        "Perennial with the Earth, with Freedom, Law and Love,\n",
        "A grand, sane, towering, seated Mother,\n",
        "Chair'd in the adamant of Time.\n",
        "    -Walt Whitman-''')\n",
        "# Close file object\n",
        "file_obj.close()"
      ],
      "execution_count": 2,
      "outputs": []
    },
    {
      "cell_type": "markdown",
      "metadata": {
        "id": "dkBEAWRDW-sE"
      },
      "source": [
        "## Close Method\n",
        "It is always good practice to close your your file whenever you are done with it, and you can do that with close(). Or if you don't want to ever forget to close it, you can try this cool trick, using the _with_ keyword when working with file objects as shown below:"
      ]
    },
    {
      "cell_type": "code",
      "metadata": {
        "id": "j5B4VHALNNa5"
      },
      "source": [
        "with open('funny.txt', 'w') as f:\n",
        "  f.write(\"A friend once told me, 'When one door closes, another one opens.' Great guy. Terrible cabinet maker.\\nKnock knock. Who's there? Tank. Tank who? You're welcome.\")"
      ],
      "execution_count": 3,
      "outputs": []
    },
    {
      "cell_type": "markdown",
      "metadata": {
        "id": "J4sBKnnuOMnz"
      },
      "source": [
        "With that, you have effectively freed up your used resource, just like how you did it with _file_obj.close()_. Any attempt to use the file object again after closing will cause a **ValueError** which lets you know that you cannot do any I/O operation with a closed file anymore."
      ]
    },
    {
      "cell_type": "markdown",
      "metadata": {
        "id": "ChDubh6-XGf9"
      },
      "source": [
        "## Text Mode vs. Binary Mode\n",
        "By now, we have only written text to our files, and we will normally open files in _text mode_ most of the times (it is a default setting). However, you should know that there are other data besides text, and, in order to work with files containing such data, we can append **'b'** to the mode (discussed above), telling our programs to open files in _binary mode_. This will come in handy on our upcoming demo, but here's an example of how to specify multiple modes!"
      ]
    },
    {
      "cell_type": "code",
      "metadata": {
        "id": "lxEHqmhuSgIS"
      },
      "source": [
        "# Show how to open file in read and binary mode\n",
        "with open('america.txt', 'rb') as f:\n",
        "  # do something interesting here!\n",
        "  data = f.read()"
      ],
      "execution_count": 4,
      "outputs": []
    },
    {
      "cell_type": "markdown",
      "metadata": {
        "id": "R4MfcPnbYQte"
      },
      "source": [
        "## Read Method\n",
        "So far we have only discussed the write method of a *file* object. We can also read from our file. Let's see how to do that!"
      ]
    },
    {
      "cell_type": "code",
      "metadata": {
        "id": "dp8wQ-RzYkEE"
      },
      "source": [
        "with open('funny.txt', 'r') as f:\n",
        "  f.read()"
      ],
      "execution_count": 5,
      "outputs": []
    },
    {
      "cell_type": "markdown",
      "metadata": {
        "id": "aHKjebj3Y9_G"
      },
      "source": [
        "When we execute our cell, we don't see any result because read method returns data instead of outputing it. So let's save it into a variable and print it out."
      ]
    },
    {
      "cell_type": "code",
      "metadata": {
        "id": "9A0zA93QZPDd",
        "colab": {
          "base_uri": "https://localhost:8080/"
        },
        "outputId": "e8b593db-0dce-4f5b-c4ef-ac40ae7ef57a"
      },
      "source": [
        "with open('funny.txt', 'r') as f:\n",
        "  content = f.read()\n",
        "  print(content)"
      ],
      "execution_count": 6,
      "outputs": [
        {
          "output_type": "stream",
          "text": [
            "A friend once told me, 'When one door closes, another one opens.' Great guy. Terrible cabinet maker.\n",
            "Knock knock. Who's there? Tank. Tank who? You're welcome.\n"
          ],
          "name": "stdout"
        }
      ]
    },
    {
      "cell_type": "markdown",
      "metadata": {
        "id": "w-jSGqJ7ZX-m"
      },
      "source": [
        "There we go! We see what is in our text file. We also notice that the read method returns the whole file content, but we can tell it to return a specific amount of text by giving it a _size_ number:"
      ]
    },
    {
      "cell_type": "code",
      "metadata": {
        "id": "Y6ghI3TbbSXp",
        "colab": {
          "base_uri": "https://localhost:8080/"
        },
        "outputId": "9dd3dd5c-9d0f-4ecf-c0c6-bdf36b593131"
      },
      "source": [
        "with open('funny.txt', 'r') as f:\n",
        "  content = f.read(8) # size is a quantity of data\n",
        "  print(content) # content can be either string or bytes object"
      ],
      "execution_count": 7,
      "outputs": [
        {
          "output_type": "stream",
          "text": [
            "A friend\n"
          ],
          "name": "stdout"
        }
      ]
    },
    {
      "cell_type": "markdown",
      "metadata": {
        "id": "meyKi-pncImC"
      },
      "source": [
        "Here, _size_ is the number of characters in your text content. Because we specify 8 as our argument to the read method, we get back a string of 8 characters. There are other [ways](https://docs.python.org/3/tutorial/inputoutput.html#methods-of-file-objects) to read your files too! But now let's turn attention to two other methods that will be essential in our demo later."
      ]
    },
    {
      "cell_type": "markdown",
      "metadata": {
        "id": "tH_6J6l9DGV4"
      },
      "source": [
        "## Seek & Tell \n",
        "These two methods are powerful because they give us the rein to freely move around our file and examine the data. Tell method, while in binary mode, returns an integer which is the number of bytes from the start of the file, and it indicates the file object's current position. Meanwhile, seeks allow us to determine what reference point we want to use to look at our file. We can seek from the beginning of the file, current file position, or the end of the file. All we need to do is to specify the _offset_ and _whence_ arguments of the seek method. We don't have to specify _whence_ if we are going to measure from the beginning of the file (_whence_ is 0 by default, with 1 being the current file position and 2 being the end of the file). It should be noted that the offset for referencing our file backwards is always a negative value, and we must open our file in binary mode if we want to use reference points from places other than the beginning of the file. For more information, check out the [docs](https://docs.python.org/3/tutorial/inputoutput.html#methods-of-file-objects) for methods of file objects!"
      ]
    },
    {
      "cell_type": "code",
      "metadata": {
        "id": "v1YDb_9SDExH",
        "colab": {
          "base_uri": "https://localhost:8080/"
        },
        "outputId": "9c7d3b56-9890-45f9-cf0e-39c406fce2bb"
      },
      "source": [
        "with open(filename, 'rb') as f:\n",
        "  # Go to position 12 in text\n",
        "  f.seek(12)\n",
        "  # Read in 6 characters\n",
        "  data = f.read(6)\n",
        "  # Display data\n",
        "  print(\"Display what we read in binary:\")\n",
        "  print(data)\n",
        "  # Tell me where we are currently at\n",
        "  print(f'Where we are inside our file: position {f.tell()}\\n') # position 18\n",
        "  # From current position go 10 characters ahead\n",
        "  f.seek(10, 1)\n",
        "  # Read in 9 characters\n",
        "  data = f.read(9)\n",
        "  # Display data\n",
        "  print(\"Display what we read in binary:\")\n",
        "  print(data)\n",
        "  # Tell me where we are currently at\n",
        "  print(f'Where we are inside our file: position {f.tell()}\\n') # position 37\n",
        "  # Go to position 8 from end of file\n",
        "  # in a backwards fashion\n",
        "  f.seek(-8, 2)\n",
        "  # Read in 8 characters\n",
        "  data = f.read(8)\n",
        "  # Display data\n",
        "  print(\"Display what we read in binary:\")\n",
        "  print(data)\n",
        "  # Tell me where we are currently at\n",
        "  print(f'Where we are inside our file: position {f.tell()}') # position 296"
      ],
      "execution_count": 8,
      "outputs": [
        {
          "output_type": "stream",
          "text": [
            "Display what we read in binary:\n",
            "b'Centre'\n",
            "Where we are inside our file: position 18\n",
            "\n",
            "Display what we read in binary:\n",
            "b'daughters'\n",
            "Where we are inside our file: position 37\n",
            "\n",
            "Display what we read in binary:\n",
            "b'Whitman-'\n",
            "Where we are inside our file: position 296\n"
          ],
          "name": "stdout"
        }
      ]
    },
    {
      "cell_type": "markdown",
      "metadata": {
        "id": "8qIhuCfahvoI"
      },
      "source": [
        "# It's Hacking Time!\n",
        "Our problem is as follows: Write a program that reads a file and writes out a new file with the lines in reversed order; in other words, the first line in the old file becomes the last one in the new file.  \n",
        "Let's create milestones of achievement for this assignment:\n",
        "  1. Open existing file in read and binary mode\n",
        "  2. Bring the reference point to the end of file, read and display the last character\n",
        "  3. This time, read and display a group of characters. Try to get \"Whitman-\" from the file.\n",
        "  4. This time, read and display the last line of file\n",
        "  5. This time, display the last two lines of file in reverse\n",
        "  6. While reading file, write the last two lines in reverse, which must not be concatenated to each other, to a new file\n",
        "  7. Update step 6 to read each line of the existing file and write it to the new file  \n",
        "\n",
        "In the cells below, we will be using `america.txt` referenced by variable `filename`. As you go along with these exercises, remember to make a copy of this Colab notebook and create new code cells to test your coding knowledge. **NOTE**: Run all cells above to avoid runtime errors.  \n",
        "  "
      ]
    },
    {
      "cell_type": "markdown",
      "metadata": {
        "id": "kfzqVr9lDdY_"
      },
      "source": [
        "## Milestone #1"
      ]
    },
    {
      "cell_type": "code",
      "metadata": {
        "id": "sNCkMHwl_zTo",
        "cellView": "form"
      },
      "source": [
        "#@title Exercise 1\n",
        "# Let's tackle milestone 1\n",
        "# First accomplishment\n",
        "with open(filename, 'rb') as fread:\n",
        "  #TODO\n",
        "  pass"
      ],
      "execution_count": 9,
      "outputs": []
    },
    {
      "cell_type": "markdown",
      "metadata": {
        "id": "zIWaGMmFDnJx"
      },
      "source": [
        "## Milestone #2"
      ]
    },
    {
      "cell_type": "code",
      "metadata": {
        "id": "dHMZt_hzCBxu",
        "colab": {
          "base_uri": "https://localhost:8080/"
        },
        "cellView": "form",
        "outputId": "a8c51072-dece-44d9-d4e9-c4a4a4849eb9"
      },
      "source": [
        "#@title Exercise 2\n",
        "# Second accomplishment\n",
        "with open(filename, 'rb') as fread:\n",
        "  # bring the reference point to \n",
        "  # end of file, situating at last character\n",
        "  fread.seek(-1, 2)\n",
        "  # read in one character\n",
        "  one_char = fread.read(1)\n",
        "  # display result\n",
        "  print(one_char) "
      ],
      "execution_count": 10,
      "outputs": [
        {
          "output_type": "stream",
          "text": [
            "b'-'\n"
          ],
          "name": "stdout"
        }
      ]
    },
    {
      "cell_type": "markdown",
      "metadata": {
        "id": "REAk9wtFDpY_"
      },
      "source": [
        "## Milestone #3"
      ]
    },
    {
      "cell_type": "code",
      "metadata": {
        "id": "kmx5sc7dCzGq",
        "colab": {
          "base_uri": "https://localhost:8080/"
        },
        "cellView": "form",
        "outputId": "287e67cd-6cce-4db6-c064-f928bc767114"
      },
      "source": [
        "#@title Exercise 3\n",
        "# Third accomplishment\n",
        "with open(filename, 'rb') as fread:\n",
        "  # seek 8 characters away \n",
        "  # from end of file\n",
        "  fread.seek(-8, 2)\n",
        "  # read in 8 characters\n",
        "  group_char = fread.read(8)\n",
        "  # display result\n",
        "  print(group_char) "
      ],
      "execution_count": 11,
      "outputs": [
        {
          "output_type": "stream",
          "text": [
            "b'Whitman-'\n"
          ],
          "name": "stdout"
        }
      ]
    },
    {
      "cell_type": "markdown",
      "metadata": {
        "id": "1IB6YFq7DUiU"
      },
      "source": [
        "## Milestone #4\n",
        "There are a few things you may want to keep in mind:  \n",
        "  1. We need a programming construct that helps us move through the file content character by character. NOTE: Even though we use the word character, what we are actually looking at is a byte object, or sequence of bytes. In our case, we want to look at a byte object that has only one character.\n",
        "  2. With the advice above, we will need a way to track where we are in the file. Hint: use a variable. \n",
        "  3. Be careful when you update your tracker device. Re-read section on seek method from **Review on Python Files** if you run into problems.\n",
        "  4. Also be sure to know what argument read method accepts. Review section on read method from **Review on Python Files** if you need to.\n",
        "  5. If you run into Invalid Argument error, think back to point #1. Ask youself, what have you done wrong? Investigate your tracker device. Does it stop where you think it should?"
      ]
    },
    {
      "cell_type": "code",
      "metadata": {
        "id": "0AwyQIHsDX1Z",
        "colab": {
          "base_uri": "https://localhost:8080/"
        },
        "cellView": "form",
        "outputId": "7250784a-5791-4c9b-f0d7-c57f5ebd0658"
      },
      "source": [
        "#@title Exercise 4\n",
        "# Fourth accomplishment\n",
        "with open(filename, 'rb') as fread:\n",
        "  # position of our reference pointer\n",
        "  current_pos = 0\n",
        "  char = None\n",
        "  while char != b'\\n':\n",
        "    #print(current_pos) # debugging code\n",
        "    # seek the file at current_pos\n",
        "    fread.seek(current_pos, 2)\n",
        "    # read in data \n",
        "    char = fread.read(1)\n",
        "    # look at next char by moving \n",
        "    # our position to the left by one\n",
        "    current_pos -= 1\n",
        "  # read in the last line\n",
        "  last_line = fread.read(-current_pos) # arg must be positive\n",
        "  # display the last line\n",
        "  print(last_line)\n"
      ],
      "execution_count": 12,
      "outputs": [
        {
          "output_type": "stream",
          "text": [
            "b'    -Walt Whitman-'\n"
          ],
          "name": "stdout"
        }
      ]
    },
    {
      "cell_type": "markdown",
      "metadata": {
        "id": "vXWlGHXN0qza"
      },
      "source": [
        "Hopefully, you have gotten to this point where you can produce the last line for view by runnning your code cell. From the last three milestones, if you notice we repeatedly specify 1 when reading in one character or 2 when seeking from the end of file, you are not alone! Here is a piece of advice that has been passed down by many generations of great developers, and it is a good one: Don't Repeat Yourself (DRY). So, how do we apply this principle in our code? Since these literal values are the same in all three milestones, we can make constant variables storing them. "
      ]
    },
    {
      "cell_type": "code",
      "metadata": {
        "colab": {
          "base_uri": "https://localhost:8080/"
        },
        "cellView": "form",
        "id": "p93YZUe89pVY",
        "outputId": "7c2c555f-0cfb-4aaf-dd31-9b1f106f703d"
      },
      "source": [
        "#@title Updated Version of Ex. 4\n",
        "ONE_CHAR = 1 \n",
        "END_OF_FILE = 2\n",
        "\n",
        "with open(filename, 'rb') as fread:\n",
        "  # position of our reference pointer\n",
        "  current_pos = 0\n",
        "  char = None\n",
        "  while char != b'\\n':\n",
        "    #print(current_pos) # debugging code\n",
        "    # seek the file at current_pos\n",
        "    fread.seek(current_pos, END_OF_FILE)\n",
        "    # read in data \n",
        "    char = fread.read(ONE_CHAR)\n",
        "    # look at next char by moving \n",
        "    # our position to the left by one\n",
        "    current_pos -= 1\n",
        "  # read in the last line\n",
        "  last_line = fread.read(-current_pos) # arg must be positive\n",
        "  # display the last line\n",
        "  print(last_line)"
      ],
      "execution_count": 13,
      "outputs": [
        {
          "output_type": "stream",
          "text": [
            "b'    -Walt Whitman-'\n"
          ],
          "name": "stdout"
        }
      ]
    },
    {
      "cell_type": "markdown",
      "metadata": {
        "id": "6Nu_D2dWq11X"
      },
      "source": [
        "## Milestone #5"
      ]
    },
    {
      "cell_type": "code",
      "metadata": {
        "colab": {
          "base_uri": "https://localhost:8080/"
        },
        "id": "4xBXDLUXq8V-",
        "outputId": "97d820e3-2baf-4c1c-e669-45d403f7394d"
      },
      "source": [
        "#@title Exercise 5\n",
        "# Fifth accomplishment\n",
        "\n",
        "ONE_CHAR = 1 \n",
        "END_OF_FILE = 2\n",
        "\n",
        "with open(filename, 'rb') as fread:\n",
        "  # position of our reference pointer\n",
        "  current_pos = 0\n",
        "  # track position at start of line\n",
        "  start_line_pos = 0\n",
        "  # track position at end of line\n",
        "  end_line_pos = 0\n",
        "  # update char with current character\n",
        "  char = None\n",
        "\n",
        "  # Continue loop if we don't see ',' (comma)\n",
        "  while char != b',': \n",
        "    # seek from end of file\n",
        "    fread.seek(current_pos, END_OF_FILE)\n",
        "    # read in character at current_pos           \n",
        "    char = fread.read(ONE_CHAR)\n",
        "    # Go into if block if we see '\\n'\n",
        "    if char == b'\\n':\n",
        "      # update tracker start_line_pos\n",
        "      start_line_pos = -current_pos\n",
        "      # read in the line\n",
        "      # what's passed into read is the size of the line\n",
        "      line = fread.read(start_line_pos - end_line_pos)\n",
        "      # display current line\n",
        "      print(line)\n",
        "      # update tracker end_line_pos\n",
        "      # which is now at start_line_pos\n",
        "      end_line_pos = start_line_pos\n",
        "    # move reference point position to the left by one\n",
        "    current_pos -= 1"
      ],
      "execution_count": 14,
      "outputs": [
        {
          "output_type": "stream",
          "text": [
            "b'    -Walt Whitman-'\n",
            "b\"Chair'd in the adamant of Time.\\n\"\n"
          ],
          "name": "stdout"
        }
      ]
    },
    {
      "cell_type": "markdown",
      "metadata": {
        "id": "DHwpKmSoiKSX"
      },
      "source": [
        "## Milestone #6"
      ]
    },
    {
      "cell_type": "code",
      "metadata": {
        "id": "sXJ9UkL6iPsm",
        "colab": {
          "base_uri": "https://localhost:8080/"
        },
        "outputId": "603cb71b-356e-498e-c6ac-f70e27ee2660"
      },
      "source": [
        "#@title Exercise 6\n",
        "# Sixth accomplishment\n",
        "\n",
        "ONE_CHAR = 1 \n",
        "END_OF_FILE = 2\n",
        "\n",
        "# Open two files whose modes may or may not be the same\n",
        "# We will open one file for reading, & the other for writing\n",
        "with open(filename, 'rb') as fread, open('rev_doc.txt', 'w') as fwrite:\n",
        "  # current position of our reference pointer\n",
        "  current_pos = 0\n",
        "  # tracking position for start of a line\n",
        "  start_line_pos = 0\n",
        "  # tracking position for end of a line\n",
        "  end_line_pos = 0\n",
        "  # current character that we are looking at\n",
        "  char = None\n",
        "  # track how many lines have been read\n",
        "  line_number = 0 \n",
        "\n",
        "  # while current character is not a comma\n",
        "  while char != b',':\n",
        "    # seek from end of file\n",
        "    fread.seek(current_pos, END_OF_FILE)\n",
        "    # read in character at current position\n",
        "    char = fread.read(ONE_CHAR)\n",
        "    # if current character is a newline character\n",
        "    if char == b'\\n':\n",
        "      # track position for start of a line\n",
        "      start_line_pos = -current_pos\n",
        "      # write the line to a new file\n",
        "      \n",
        "      bytes_char = fread.read(start_line_pos-end_line_pos)\n",
        "      line = bytes_char.decode()\n",
        "      if line_number == 0:\n",
        "        fwrite.write(line + '\\n')\n",
        "      else:\n",
        "        fwrite.write(line)\n",
        "      # track position for end of a line, which \n",
        "      # will be at the position of start of a line\n",
        "      end_line_pos = start_line_pos\n",
        "      # increment line_number\n",
        "      line_number += 1\n",
        "    # else: decrement current position (move left)\n",
        "    current_pos -= 1\n",
        "  print(f\"Number of lines that we have written to the new file is {line_number}.\")"
      ],
      "execution_count": 15,
      "outputs": [
        {
          "output_type": "stream",
          "text": [
            "Number of lines that we have written to the new file is 2.\n"
          ],
          "name": "stdout"
        }
      ]
    },
    {
      "cell_type": "markdown",
      "metadata": {
        "id": "-WyR2-k42RPl"
      },
      "source": [
        "## Milestone 7"
      ]
    },
    {
      "cell_type": "code",
      "metadata": {
        "colab": {
          "base_uri": "https://localhost:8080/"
        },
        "id": "T5sPQaqj2UYf",
        "outputId": "c08b7842-b7ab-46f2-8fa0-357388476ddb"
      },
      "source": [
        "#@title Exercise 7\n",
        "# Seventh Accomplishment\n",
        "\n",
        "ONE_CHAR = 1 \n",
        "END_OF_FILE = 2\n",
        "RES_FILE = 'result.txt'\n",
        "\n",
        "# Open two files whose modes may or may not be the same\n",
        "# We will open one file for reading, & the other for writing\n",
        "with open(filename, 'rb') as fread, open(RES_FILE, 'w') as fwrite:\n",
        "  # track current position of our reference pointer\n",
        "  current_pos = 0\n",
        "  # track position of character with tell method\n",
        "  tell_pos = None\n",
        "  # track start of the line position\n",
        "  start_line_pos = 0 \n",
        "  # track end of the line position\n",
        "  end_line_pos = 0\n",
        "  # number of lines that have been processed\n",
        "  num_of_lines = 0\n",
        "  # track current character\n",
        "  char = None\n",
        "\n",
        "  # continue if tell does not return 0\n",
        "  while tell_pos != 0:\n",
        "    # seek from end of file with current position\n",
        "    fread.seek(current_pos, END_OF_FILE)\n",
        "    # read in a character\n",
        "    char = fread.read(ONE_CHAR)\n",
        "\n",
        "    # if character is a newline character\n",
        "    if char == b'\\n':\n",
        "      # update start of the line position\n",
        "      start_line_pos = -current_pos\n",
        "      # read in the line as a bytes object containing characters\n",
        "      bytes_char = fread.read(start_line_pos-end_line_pos)\n",
        "      # decode bytes object\n",
        "      line = bytes_char.decode()\n",
        "      # write the line to a new file\n",
        "      if num_of_lines == 0: # if we see last line for first time\n",
        "        fwrite.write(line + '\\n') # add newline char\n",
        "      else:\n",
        "        fwrite.write(line)\n",
        "      # update end of the line position\n",
        "      end_line_pos = start_line_pos\n",
        "      # update number of processed lines\n",
        "      num_of_lines += 1 \n",
        "\n",
        "    # update current position\n",
        "    current_pos -= 1\n",
        "    # We seek at the next position (to the left)\n",
        "    # This seek is important: it lets us know if we\n",
        "    # have reach 0 when we call tell method below\n",
        "    fread.seek(current_pos, END_OF_FILE)\n",
        "    # update character position indicated by tell method\n",
        "    tell_pos = fread.tell()\n",
        "  \n",
        "  # first line of the file will not be added yet\n",
        "  # update start of the line position\n",
        "  start_line_pos = -current_pos\n",
        "  # read in the bytes characters\n",
        "  bytes_char = fread.read(start_line_pos-end_line_pos)\n",
        "  # decode the bytes object\n",
        "  first_line = bytes_char.decode()\n",
        "  # write the first line of the file to new line\n",
        "  fwrite.write(first_line)\n",
        "  # update number of processed lines\n",
        "  num_of_lines += 1 \n",
        "\n",
        "  print(f'Number of processed lines is {num_of_lines}.')"
      ],
      "execution_count": 30,
      "outputs": [
        {
          "output_type": "stream",
          "text": [
            "Number of processed lines is 8.\n"
          ],
          "name": "stdout"
        }
      ]
    }
  ]
}