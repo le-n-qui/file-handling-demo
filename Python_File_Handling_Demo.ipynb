{
  "nbformat": 4,
  "nbformat_minor": 0,
  "metadata": {
    "colab": {
      "name": "Python-File-Handling-Demo.ipynb",
      "provenance": [],
      "authorship_tag": "ABX9TyOiob58PwjiSa4CXmOLiDb1"
    },
    "kernelspec": {
      "name": "python3",
      "display_name": "Python 3"
    },
    "language_info": {
      "name": "python"
    }
  },
  "cells": [
    {
      "cell_type": "markdown",
      "metadata": {
        "id": "UDyE6A2ixNgb"
      },
      "source": [
        "# Review on Python Files\n",
        "As with any other modern high-level programming languages, Python provides developers with built-in methods that allow them to read, append and write to files. Without further ado, let's dive in and test them out!"
      ]
    },
    {
      "cell_type": "markdown",
      "metadata": {
        "id": "-0Qas0bhXT9Z"
      },
      "source": [
        "Since we have not had any file with us yet, it will be a good exercise to bring a file into existence, though temporary on Google Colab, and write content to it using Python. Let's see how we do this."
      ]
    },
    {
      "cell_type": "code",
      "metadata": {
        "id": "UO6gOgjHk_nY"
      },
      "source": [
        "# Name your file\n",
        "filename = \"hello.txt\"\n",
        "# Create a file object with open() method\n",
        "# which takes two args: 1. file name 2. mode\n",
        "file_obj = open(filename, 'w')"
      ],
      "execution_count": 1,
      "outputs": []
    },
    {
      "cell_type": "markdown",
      "metadata": {
        "id": "74_6onr6oiK0"
      },
      "source": [
        "Above, we have effectively managed to make a file handler which we will use to write to our file. Although we could have provided a file name string as the first argument to our method open(), it is much cleaner and better for code maintainablity as we may want to change the name of our file in the future."
      ]
    },
    {
      "cell_type": "code",
      "metadata": {
        "id": "BS3QECRsqB3N"
      },
      "source": [
        ""
      ],
      "execution_count": null,
      "outputs": []
    }
  ]
}