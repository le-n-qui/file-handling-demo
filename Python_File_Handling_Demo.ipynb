{
  "nbformat": 4,
  "nbformat_minor": 0,
  "metadata": {
    "colab": {
      "name": "Python-File-Handling-Demo.ipynb",
      "provenance": [],
      "toc_visible": true,
      "authorship_tag": "ABX9TyNgYkAjf0+zvLCIRzKjXtqS"
    },
    "kernelspec": {
      "name": "python3",
      "display_name": "Python 3"
    },
    "language_info": {
      "name": "python"
    }
  },
  "cells": [
    {
      "cell_type": "markdown",
      "metadata": {
        "id": "UDyE6A2ixNgb"
      },
      "source": [
        "# Review on Python Files\n",
        "As with any other modern high-level programming languages, Python provides developers with built-in methods that allow them to read, append and write to files."
      ]
    },
    {
      "cell_type": "markdown",
      "metadata": {
        "id": "7cPxSWjwywyZ"
      },
      "source": [
        ""
      ]
    },
    {
      "cell_type": "code",
      "metadata": {
        "id": "UO6gOgjHk_nY"
      },
      "source": [
        ""
      ],
      "execution_count": null,
      "outputs": []
    }
  ]
}